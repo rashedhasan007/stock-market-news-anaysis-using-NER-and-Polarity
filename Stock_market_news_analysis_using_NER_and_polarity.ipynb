{
  "nbformat": 4,
  "nbformat_minor": 0,
  "metadata": {
    "colab": {
      "name": "Untitled27.ipynb",
      "provenance": []
    },
    "kernelspec": {
      "display_name": "Python 3",
      "name": "python3"
    },
    "language_info": {
      "name": "python"
    }
  },
  "cells": [
    {
      "cell_type": "code",
      "metadata": {
        "id": "AoKOXdtm4tnE"
      },
      "source": [
        "from __future__ import unicode_literals, print_function\n",
        "import plac\n",
        "import random\n",
        "from pathlib import Path\n",
        "import spacy\n",
        "from tqdm import tqdm"
      ],
      "execution_count": 73,
      "outputs": []
    },
    {
      "cell_type": "code",
      "metadata": {
        "id": "bHZVE9ClGtUD"
      },
      "source": [
        " TRAIN_DATA= [\n",
        "    \n",
        "]\n"
      ],
      "execution_count": 74,
      "outputs": []
    },
    {
      "cell_type": "code",
      "metadata": {
        "colab": {
          "base_uri": "https://localhost:8080/"
        },
        "id": "BSb7T4DiqaEr",
        "outputId": "b10be49b-6c8c-4e1b-ffff-2acd1f86cd5c"
      },
      "source": [
        "Fin_term=[\"IPO\",\"capital\",\"capital market\",\"EPS\",\"closing price\",\"shareholders\",\"Turnover\",\"index\",\"market capitalization\",\"mutual fund\",\"points\",\"DSEX\",\n",
        "          \"financial statements\",\"reserve \"]\n",
        "\n",
        "\n",
        "Fin_term_txt=[\"The bank will raise money from the capital market to spend on the purchase of government securities and IPO costs.\",\n",
        "              \"Shares will be allotted proportionally on Thursday at the Dhaka Stock Exchange Tower in the capital, said a press release.\",\n",
        "              \"Therefore, South Bangla Bank will play a role in the overall development of the capital market, he added.\",\n",
        "              \"According to the financial statement ending June 30, 2019, the company's net asset value (NAV) per share was Tk13.18, while earnings per share (EPS) were Tk0.94.\",\n",
        "              \"During Sunday’s session, the closing price for each of Berger’s shares was Tk1,780.50.\",\n",
        "              \"In 2020, the company offered a 295% cash dividend to its shareholders. The last time it offered more than a 375% dividend was back in 2017. The company offered a staggering 600% cash dividend that year.\",\n",
        "              \"Turnover, another important indicator of the market, also rose to Tk1,355 core, which was 7.20% higher than the turnover of Tk1,264 crore in the previous session\",\n",
        "              \"DSEX, the prime index of the DSE, went up by 19.17 points or 0.29% to settle at 6,424 — the highest since its inception in 2013\",\n",
        "              \"The market capitalization of the DSE stood at Tk535,000 crore on Sunday, down from the all-time high of Tk535,200 crore of the previous session.\",\n",
        "              \"The port city bourse traded 16.55 million shares and mutual fund units with a turnover value of Tk40.8 crore.\",\n",
        "              \"The key index of Dhaka Stock Exchange, DSEX closed at 6,365.1 points on Sunday after gaining 0.92% during the session while CASPI advanced 0.33% to close at 18379.6 points.\",\n",
        "              \"The Dhaka Stock Exchange currently has a market capitalization of Tk532,312 crore with the benchmark index, DSEX up by 17.83% since the beginning of this year.\",\n",
        "              \"According to the financial statements of Oryza Agro for the period ended December 30, 2020, the earnings per share is Tk1.02 and the net asset value (NAV) per share without revaluation reserve is Tk18.09. \",\n",
        "              \"According to the company's financial statements for the period ended 31 December 2020, its earnings per share is Tk0.68 and the NAV per share without revaluation reserve is Tk14.08.\",\n",
        "              \"\"]\n",
        "label=\"Fin_term\"\n",
        "for i in range(len(Fin_term)):\n",
        "  word=Fin_term[i]\n",
        "  sentence=Fin_term_txt[i]\n",
        "  start_index = sentence.find(word)\n",
        "  end_index = start_index + len(word) # if the start_index is not -1\n",
        "  print(start_index,end_index)\n",
        "  f=(Fin_term_txt[i], {\n",
        "        'entities': [(start_index,end_index,label)]\n",
        "    })\n",
        "  TRAIN_DATA.append(f)\n",
        "print(TRAIN_DATA)"
      ],
      "execution_count": 75,
      "outputs": [
        {
          "output_type": "stream",
          "text": [
            "104 107\n",
            "92 99\n",
            "80 94\n",
            "144 147\n",
            "29 42\n",
            "57 69\n",
            "0 8\n",
            "16 21\n",
            "4 25\n",
            "53 64\n",
            "62 68\n",
            "108 112\n",
            "17 37\n",
            "162 170\n",
            "[('The bank will raise money from the capital market to spend on the purchase of government securities and IPO costs.', {'entities': [(104, 107, 'Fin_term')]}), ('Shares will be allotted proportionally on Thursday at the Dhaka Stock Exchange Tower in the capital, said a press release.', {'entities': [(92, 99, 'Fin_term')]}), ('Therefore, South Bangla Bank will play a role in the overall development of the capital market, he added.', {'entities': [(80, 94, 'Fin_term')]}), (\"According to the financial statement ending June 30, 2019, the company's net asset value (NAV) per share was Tk13.18, while earnings per share (EPS) were Tk0.94.\", {'entities': [(144, 147, 'Fin_term')]}), ('During Sunday’s session, the closing price for each of Berger’s shares was Tk1,780.50.', {'entities': [(29, 42, 'Fin_term')]}), ('In 2020, the company offered a 295% cash dividend to its shareholders. The last time it offered more than a 375% dividend was back in 2017. The company offered a staggering 600% cash dividend that year.', {'entities': [(57, 69, 'Fin_term')]}), ('Turnover, another important indicator of the market, also rose to Tk1,355 core, which was 7.20% higher than the turnover of Tk1,264 crore in the previous session', {'entities': [(0, 8, 'Fin_term')]}), ('DSEX, the prime index of the DSE, went up by 19.17 points or 0.29% to settle at 6,424 — the highest since its inception in 2013', {'entities': [(16, 21, 'Fin_term')]}), ('The market capitalization of the DSE stood at Tk535,000 crore on Sunday, down from the all-time high of Tk535,200 crore of the previous session.', {'entities': [(4, 25, 'Fin_term')]}), ('The port city bourse traded 16.55 million shares and mutual fund units with a turnover value of Tk40.8 crore.', {'entities': [(53, 64, 'Fin_term')]}), ('The key index of Dhaka Stock Exchange, DSEX closed at 6,365.1 points on Sunday after gaining 0.92% during the session while CASPI advanced 0.33% to close at 18379.6 points.', {'entities': [(62, 68, 'Fin_term')]}), ('The Dhaka Stock Exchange currently has a market capitalization of Tk532,312 crore with the benchmark index, DSEX up by 17.83% since the beginning of this year.', {'entities': [(108, 112, 'Fin_term')]}), ('According to the financial statements of Oryza Agro for the period ended December 30, 2020, the earnings per share is Tk1.02 and the net asset value (NAV) per share without revaluation reserve is Tk18.09. ', {'entities': [(17, 37, 'Fin_term')]}), (\"According to the company's financial statements for the period ended 31 December 2020, its earnings per share is Tk0.68 and the NAV per share without revaluation reserve is Tk14.08.\", {'entities': [(162, 170, 'Fin_term')]})]\n"
          ],
          "name": "stdout"
        }
      ]
    },
    {
      "cell_type": "code",
      "metadata": {
        "colab": {
          "base_uri": "https://localhost:8080/"
        },
        "id": "gsFBLWMaGqOT",
        "outputId": "af9c1c59-6f0b-43bf-9a90-9da39983fe34"
      },
      "source": [
        "gvt_bank=[\"Sonali Bank Limited\",\"Janata Bank\",\"Agrani Bank Limited\",\"Rupali Bank Limited\",\"BASIC Bank Limited\",\"Bangladesh Development Bank\"]\n",
        "\n",
        "\n",
        "gvt_bank_txt=[\"The bank has been converted to a Public Limited Company with 100% ownership of the government and started functioning as Sonali Bank Limited from November 15, 2007 taking over all assets\",\n",
        "              \"Including 4 overseas branches in United Arab Emirates, Janata Bank runs its business with 904 branches across the country.\",\n",
        "              \"There are total 921 branches of Agrani Bank Limited situated in 64 districts in Bangladesh.\",\n",
        "              \"The state-run Rupali Bank Limited has introduced online transaction system in its 532 branches across the country. “We will introduce online banking system in the rest of 131 branches soon\",\n",
        "              \"BASIC Bank Limited is a fully government owned bank in Bangladesh which was founded on 2 August 1988. The bank was founded to finance small enterprises.\",\n",
        "              \"Bangladesh Development Bank was established on 16 November 2009 as a Public Limited Company by merging the state owned Bangladesh Shilpa Bank and Bangladesh\"]\n",
        "label=\"gvt_bank\"\n",
        "for i in range(len(gvt_bank)):\n",
        "  word=gvt_bank[i]\n",
        "  sentence=gvt_bank_txt[i]\n",
        "  start_index = sentence.find(word)\n",
        "  end_index = start_index + len(word) # if the start_index is not -1\n",
        "  print(start_index,end_index)\n",
        "  f=(gvt_bank_txt[i], {\n",
        "        'entities': [(start_index,end_index,label)]\n",
        "    })\n",
        "  TRAIN_DATA.append(f)\n",
        "print(TRAIN_DATA)"
      ],
      "execution_count": 76,
      "outputs": [
        {
          "output_type": "stream",
          "text": [
            "121 140\n",
            "55 66\n",
            "32 51\n",
            "14 33\n",
            "0 18\n",
            "0 27\n",
            "[('The bank will raise money from the capital market to spend on the purchase of government securities and IPO costs.', {'entities': [(104, 107, 'Fin_term')]}), ('Shares will be allotted proportionally on Thursday at the Dhaka Stock Exchange Tower in the capital, said a press release.', {'entities': [(92, 99, 'Fin_term')]}), ('Therefore, South Bangla Bank will play a role in the overall development of the capital market, he added.', {'entities': [(80, 94, 'Fin_term')]}), (\"According to the financial statement ending June 30, 2019, the company's net asset value (NAV) per share was Tk13.18, while earnings per share (EPS) were Tk0.94.\", {'entities': [(144, 147, 'Fin_term')]}), ('During Sunday’s session, the closing price for each of Berger’s shares was Tk1,780.50.', {'entities': [(29, 42, 'Fin_term')]}), ('In 2020, the company offered a 295% cash dividend to its shareholders. The last time it offered more than a 375% dividend was back in 2017. The company offered a staggering 600% cash dividend that year.', {'entities': [(57, 69, 'Fin_term')]}), ('Turnover, another important indicator of the market, also rose to Tk1,355 core, which was 7.20% higher than the turnover of Tk1,264 crore in the previous session', {'entities': [(0, 8, 'Fin_term')]}), ('DSEX, the prime index of the DSE, went up by 19.17 points or 0.29% to settle at 6,424 — the highest since its inception in 2013', {'entities': [(16, 21, 'Fin_term')]}), ('The market capitalization of the DSE stood at Tk535,000 crore on Sunday, down from the all-time high of Tk535,200 crore of the previous session.', {'entities': [(4, 25, 'Fin_term')]}), ('The port city bourse traded 16.55 million shares and mutual fund units with a turnover value of Tk40.8 crore.', {'entities': [(53, 64, 'Fin_term')]}), ('The key index of Dhaka Stock Exchange, DSEX closed at 6,365.1 points on Sunday after gaining 0.92% during the session while CASPI advanced 0.33% to close at 18379.6 points.', {'entities': [(62, 68, 'Fin_term')]}), ('The Dhaka Stock Exchange currently has a market capitalization of Tk532,312 crore with the benchmark index, DSEX up by 17.83% since the beginning of this year.', {'entities': [(108, 112, 'Fin_term')]}), ('According to the financial statements of Oryza Agro for the period ended December 30, 2020, the earnings per share is Tk1.02 and the net asset value (NAV) per share without revaluation reserve is Tk18.09. ', {'entities': [(17, 37, 'Fin_term')]}), (\"According to the company's financial statements for the period ended 31 December 2020, its earnings per share is Tk0.68 and the NAV per share without revaluation reserve is Tk14.08.\", {'entities': [(162, 170, 'Fin_term')]}), ('The bank has been converted to a Public Limited Company with 100% ownership of the government and started functioning as Sonali Bank Limited from November 15, 2007 taking over all assets', {'entities': [(121, 140, 'gvt_bank')]}), ('Including 4 overseas branches in United Arab Emirates, Janata Bank runs its business with 904 branches across the country.', {'entities': [(55, 66, 'gvt_bank')]}), ('There are total 921 branches of Agrani Bank Limited situated in 64 districts in Bangladesh.', {'entities': [(32, 51, 'gvt_bank')]}), ('The state-run Rupali Bank Limited has introduced online transaction system in its 532 branches across the country. “We will introduce online banking system in the rest of 131 branches soon', {'entities': [(14, 33, 'gvt_bank')]}), ('BASIC Bank Limited is a fully government owned bank in Bangladesh which was founded on 2 August 1988. The bank was founded to finance small enterprises.', {'entities': [(0, 18, 'gvt_bank')]}), ('Bangladesh Development Bank was established on 16 November 2009 as a Public Limited Company by merging the state owned Bangladesh Shilpa Bank and Bangladesh', {'entities': [(0, 27, 'gvt_bank')]})]\n"
          ],
          "name": "stdout"
        }
      ]
    },
    {
      "cell_type": "code",
      "metadata": {
        "id": "SXuCwANN47J2",
        "colab": {
          "base_uri": "https://localhost:8080/"
        },
        "outputId": "94a3b34a-b3f4-45f9-83e1-483c2ba0c6ba"
      },
      "source": [
        " TRAIN_DATA= [\n",
        "    ('Who is Nishanth?', {\n",
        "        'entities': [(7, 15, 'PERSO')]\n",
        "    }),\n",
        "     ('Who is Kamal Khumar?', {\n",
        "        'entities': [(7, 19, 'chudir vai')]\n",
        "    }),\n",
        "    ('I like London and Berlin.', {\n",
        "        'entities': [(7, 13, 'LOC'), (18, 24, 'LOC')]\n",
        "    })\n",
        "]\n",
        "f=('Who is Kamal Khumar?', {\n",
        "        'entities': [(7, 19, 'chudir vai')]\n",
        "    })\n",
        "print(TRAIN_DATA.append(f))\n",
        "print(TRAIN_DATA)"
      ],
      "execution_count": 22,
      "outputs": [
        {
          "output_type": "stream",
          "text": [
            "None\n",
            "[('Who is Nishanth?', {'entities': [(7, 15, 'PERSO')]}), ('Who is Kamal Khumar?', {'entities': [(7, 19, 'chudir vai')]}), ('I like London and Berlin.', {'entities': [(7, 13, 'LOC'), (18, 24, 'LOC')]}), ('Who is Kamal Khumar?', {'entities': [(7, 19, 'chudir vai')]})]\n"
          ],
          "name": "stdout"
        }
      ]
    },
    {
      "cell_type": "code",
      "metadata": {
        "colab": {
          "base_uri": "https://localhost:8080/"
        },
        "id": "urcmfNEQuI7e",
        "outputId": "c5a97735-2b30-42a0-da7a-315537fbb5ee"
      },
      "source": [
        "\n",
        "# import SentimentIntensityAnalyzer class\n",
        "# from vaderSentiment.vaderSentiment module.\n",
        "from vaderSentiment.vaderSentiment import SentimentIntensityAnalyzer\n",
        " \n",
        "# function to print sentiments\n",
        "# of the sentence.\n",
        "def sentiment_scores(sentence):\n",
        " \n",
        "    # Create a SentimentIntensityAnalyzer object.\n",
        "    sid_obj = SentimentIntensityAnalyzer()\n",
        " \n",
        "    # polarity_scores method of SentimentIntensityAnalyzer\n",
        "    # object gives a sentiment dictionary.\n",
        "    # which contains pos, neg, neu, and compound scores.\n",
        "    sentiment_dict = sid_obj.polarity_scores(sentence)\n",
        "     \n",
        "    print(\"Overall sentiment dictionary is : \", sentiment_dict)\n",
        "    print(\"sentence was rated as \", sentiment_dict['neg']*100, \"% Negative\")\n",
        "    print(\"sentence was rated as \", sentiment_dict['neu']*100, \"% Neutral\")\n",
        "    print(\"sentence was rated as \", sentiment_dict['pos']*100, \"% Positive\")\n",
        " \n",
        "    print(\"Sentence Overall Rated As\", end = \" \")\n",
        " \n",
        "    # decide sentiment as positive, negative and neutral\n",
        "    if sentiment_dict['compound'] >= 0.05 :\n",
        "        print(\"Positive\")\n",
        " \n",
        "    elif sentiment_dict['compound'] <= - 0.05 :\n",
        "        print(\"Negative\")\n",
        " \n",
        "    else :\n",
        "        print(\"Neutral\")\n",
        "sentence=\"per share (EPS) of Tk58.03 for the year ended on March 31,  2021, a slight 11.12% increase from Tk52.22 for the same period of the previous financial year\"\n",
        "sentiment_scores(sentence)"
      ],
      "execution_count": 27,
      "outputs": [
        {
          "output_type": "stream",
          "text": [
            "Overall sentiment dictionary is :  {'neg': 0.0, 'neu': 0.86, 'pos': 0.14, 'compound': 0.4976}\n",
            "sentence was rated as  0.0 % Negative\n",
            "sentence was rated as  86.0 % Neutral\n",
            "sentence was rated as  14.000000000000002 % Positive\n",
            "Sentence Overall Rated As Positive\n"
          ],
          "name": "stdout"
        }
      ]
    },
    {
      "cell_type": "code",
      "metadata": {
        "colab": {
          "base_uri": "https://localhost:8080/"
        },
        "id": "eJ8VSIa6xL_N",
        "outputId": "7d53960a-62de-47f5-fefe-362110a17f1b"
      },
      "source": [
        "pip install vaderSentiment"
      ],
      "execution_count": 102,
      "outputs": [
        {
          "output_type": "stream",
          "text": [
            "Collecting vaderSentiment\n",
            "  Downloading vaderSentiment-3.3.2-py2.py3-none-any.whl (125 kB)\n",
            "\u001b[?25l\r\u001b[K     |██▋                             | 10 kB 27.0 MB/s eta 0:00:01\r\u001b[K     |█████▏                          | 20 kB 34.0 MB/s eta 0:00:01\r\u001b[K     |███████▉                        | 30 kB 36.7 MB/s eta 0:00:01\r\u001b[K     |██████████▍                     | 40 kB 20.8 MB/s eta 0:00:01\r\u001b[K     |█████████████                   | 51 kB 8.7 MB/s eta 0:00:01\r\u001b[K     |███████████████▋                | 61 kB 9.3 MB/s eta 0:00:01\r\u001b[K     |██████████████████▏             | 71 kB 8.9 MB/s eta 0:00:01\r\u001b[K     |████████████████████▉           | 81 kB 8.7 MB/s eta 0:00:01\r\u001b[K     |███████████████████████▍        | 92 kB 9.2 MB/s eta 0:00:01\r\u001b[K     |██████████████████████████      | 102 kB 7.8 MB/s eta 0:00:01\r\u001b[K     |████████████████████████████▋   | 112 kB 7.8 MB/s eta 0:00:01\r\u001b[K     |███████████████████████████████▏| 122 kB 7.8 MB/s eta 0:00:01\r\u001b[K     |████████████████████████████████| 125 kB 7.8 MB/s \n",
            "\u001b[?25hRequirement already satisfied: requests in /usr/local/lib/python3.7/dist-packages (from vaderSentiment) (2.23.0)\n",
            "Requirement already satisfied: urllib3!=1.25.0,!=1.25.1,<1.26,>=1.21.1 in /usr/local/lib/python3.7/dist-packages (from requests->vaderSentiment) (1.24.3)\n",
            "Requirement already satisfied: certifi>=2017.4.17 in /usr/local/lib/python3.7/dist-packages (from requests->vaderSentiment) (2021.5.30)\n",
            "Requirement already satisfied: idna<3,>=2.5 in /usr/local/lib/python3.7/dist-packages (from requests->vaderSentiment) (2.10)\n",
            "Requirement already satisfied: chardet<4,>=3.0.2 in /usr/local/lib/python3.7/dist-packages (from requests->vaderSentiment) (3.0.4)\n",
            "Installing collected packages: vaderSentiment\n",
            "Successfully installed vaderSentiment-3.3.2\n"
          ],
          "name": "stdout"
        }
      ]
    },
    {
      "cell_type": "code",
      "metadata": {
        "id": "TXHZDdK95jCh"
      },
      "source": [
        "model = None\n",
        "#output_dir=Path(\"C:\\\\Users\\\\nithi\\\\Documents\\\\ner\")\n",
        "n_iter=100"
      ],
      "execution_count": 113,
      "outputs": []
    },
    {
      "cell_type": "code",
      "metadata": {
        "colab": {
          "base_uri": "https://localhost:8080/"
        },
        "id": "EHIpb-jg5l3-",
        "outputId": "8d66e7e0-5f40-42d8-f774-e7662d593aa4"
      },
      "source": [
        "if model is not None:\n",
        "    nlp = spacy.load(model)  \n",
        "    print(\"Loaded model '%s'\" % model)\n",
        "else:\n",
        "    nlp = spacy.blank('en')  \n",
        "    print(\"Created blank 'en' model\")"
      ],
      "execution_count": 114,
      "outputs": [
        {
          "output_type": "stream",
          "text": [
            "Created blank 'en' model\n"
          ],
          "name": "stdout"
        }
      ]
    },
    {
      "cell_type": "code",
      "metadata": {
        "id": "yr9c5FWT6ifZ"
      },
      "source": [
        "if 'ner' not in nlp.pipe_names:\n",
        "    ner = nlp.create_pipe('ner')\n",
        "    nlp.add_pipe(ner, last=True)\n",
        "else:\n",
        "    ner = nlp.get_pipe('ner')"
      ],
      "execution_count": 115,
      "outputs": []
    },
    {
      "cell_type": "code",
      "metadata": {
        "colab": {
          "base_uri": "https://localhost:8080/"
        },
        "id": "QGBthgXg6l-R",
        "outputId": "93cef9dd-dfb6-4e8b-89e8-94b2ee3a790a"
      },
      "source": [
        "for _, annotations in TRAIN_DATA:\n",
        "    for ent in annotations.get('entities'):\n",
        "        ner.add_label(ent[2])\n",
        "\n",
        "other_pipes = [pipe for pipe in nlp.pipe_names if pipe != 'ner']\n",
        "with nlp.disable_pipes(*other_pipes):  # only train NER\n",
        "    optimizer = nlp.begin_training()\n",
        "    for itn in range(n_iter):\n",
        "        random.shuffle(TRAIN_DATA)\n",
        "        losses = {}\n",
        "        for text, annotations in tqdm(TRAIN_DATA):\n",
        "            nlp.update(\n",
        "                [text],  \n",
        "                [annotations],  \n",
        "                drop=0.5,  \n",
        "                sgd=optimizer,\n",
        "                losses=losses)\n",
        "        print(losses)"
      ],
      "execution_count": 116,
      "outputs": [
        {
          "output_type": "stream",
          "text": [
            "100%|██████████| 20/20 [00:00<00:00, 23.65it/s]\n",
            " 15%|█▌        | 3/20 [00:00<00:00, 25.74it/s]"
          ],
          "name": "stderr"
        },
        {
          "output_type": "stream",
          "text": [
            "{'ner': 235.44168502791194}\n"
          ],
          "name": "stdout"
        },
        {
          "output_type": "stream",
          "text": [
            "100%|██████████| 20/20 [00:00<00:00, 23.33it/s]\n",
            " 15%|█▌        | 3/20 [00:00<00:00, 23.10it/s]"
          ],
          "name": "stderr"
        },
        {
          "output_type": "stream",
          "text": [
            "{'ner': 37.743695974125544}\n"
          ],
          "name": "stdout"
        },
        {
          "output_type": "stream",
          "text": [
            "100%|██████████| 20/20 [00:00<00:00, 23.18it/s]\n",
            " 15%|█▌        | 3/20 [00:00<00:00, 21.63it/s]"
          ],
          "name": "stderr"
        },
        {
          "output_type": "stream",
          "text": [
            "{'ner': 38.06369079271694}\n"
          ],
          "name": "stdout"
        },
        {
          "output_type": "stream",
          "text": [
            "100%|██████████| 20/20 [00:00<00:00, 23.44it/s]\n",
            " 15%|█▌        | 3/20 [00:00<00:00, 25.21it/s]"
          ],
          "name": "stderr"
        },
        {
          "output_type": "stream",
          "text": [
            "{'ner': 33.90365671023465}\n"
          ],
          "name": "stdout"
        },
        {
          "output_type": "stream",
          "text": [
            "100%|██████████| 20/20 [00:00<00:00, 23.23it/s]\n",
            " 15%|█▌        | 3/20 [00:00<00:00, 22.25it/s]"
          ],
          "name": "stderr"
        },
        {
          "output_type": "stream",
          "text": [
            "{'ner': 32.716130415873536}\n"
          ],
          "name": "stdout"
        },
        {
          "output_type": "stream",
          "text": [
            "100%|██████████| 20/20 [00:00<00:00, 23.21it/s]\n",
            " 15%|█▌        | 3/20 [00:00<00:00, 23.66it/s]"
          ],
          "name": "stderr"
        },
        {
          "output_type": "stream",
          "text": [
            "{'ner': 31.203867989153757}\n"
          ],
          "name": "stdout"
        },
        {
          "output_type": "stream",
          "text": [
            "100%|██████████| 20/20 [00:00<00:00, 23.34it/s]\n",
            " 15%|█▌        | 3/20 [00:00<00:00, 26.92it/s]"
          ],
          "name": "stderr"
        },
        {
          "output_type": "stream",
          "text": [
            "{'ner': 142.05117458791446}\n"
          ],
          "name": "stdout"
        },
        {
          "output_type": "stream",
          "text": [
            "100%|██████████| 20/20 [00:00<00:00, 23.75it/s]\n",
            " 15%|█▌        | 3/20 [00:00<00:00, 27.36it/s]"
          ],
          "name": "stderr"
        },
        {
          "output_type": "stream",
          "text": [
            "{'ner': 133.62789166407242}\n"
          ],
          "name": "stdout"
        },
        {
          "output_type": "stream",
          "text": [
            "100%|██████████| 20/20 [00:00<00:00, 23.78it/s]\n",
            " 15%|█▌        | 3/20 [00:00<00:00, 24.14it/s]"
          ],
          "name": "stderr"
        },
        {
          "output_type": "stream",
          "text": [
            "{'ner': 52.178492588859086}\n"
          ],
          "name": "stdout"
        },
        {
          "output_type": "stream",
          "text": [
            "100%|██████████| 20/20 [00:00<00:00, 24.28it/s]\n",
            " 15%|█▌        | 3/20 [00:00<00:00, 22.10it/s]"
          ],
          "name": "stderr"
        },
        {
          "output_type": "stream",
          "text": [
            "{'ner': 41.598720839746}\n"
          ],
          "name": "stdout"
        },
        {
          "output_type": "stream",
          "text": [
            "100%|██████████| 20/20 [00:00<00:00, 23.45it/s]\n",
            " 15%|█▌        | 3/20 [00:00<00:00, 25.42it/s]"
          ],
          "name": "stderr"
        },
        {
          "output_type": "stream",
          "text": [
            "{'ner': 36.31847171312391}\n"
          ],
          "name": "stdout"
        },
        {
          "output_type": "stream",
          "text": [
            "100%|██████████| 20/20 [00:00<00:00, 23.60it/s]\n",
            " 15%|█▌        | 3/20 [00:00<00:00, 21.31it/s]"
          ],
          "name": "stderr"
        },
        {
          "output_type": "stream",
          "text": [
            "{'ner': 45.05404806028667}\n"
          ],
          "name": "stdout"
        },
        {
          "output_type": "stream",
          "text": [
            "100%|██████████| 20/20 [00:00<00:00, 22.43it/s]\n",
            " 15%|█▌        | 3/20 [00:00<00:00, 24.73it/s]"
          ],
          "name": "stderr"
        },
        {
          "output_type": "stream",
          "text": [
            "{'ner': 31.51117395366185}\n"
          ],
          "name": "stdout"
        },
        {
          "output_type": "stream",
          "text": [
            "100%|██████████| 20/20 [00:00<00:00, 23.31it/s]\n",
            " 10%|█         | 2/20 [00:00<00:01, 17.40it/s]"
          ],
          "name": "stderr"
        },
        {
          "output_type": "stream",
          "text": [
            "{'ner': 33.371700854220606}\n"
          ],
          "name": "stdout"
        },
        {
          "output_type": "stream",
          "text": [
            "100%|██████████| 20/20 [00:00<00:00, 22.01it/s]\n",
            " 15%|█▌        | 3/20 [00:00<00:00, 24.65it/s]"
          ],
          "name": "stderr"
        },
        {
          "output_type": "stream",
          "text": [
            "{'ner': 43.45081023838521}\n"
          ],
          "name": "stdout"
        },
        {
          "output_type": "stream",
          "text": [
            "100%|██████████| 20/20 [00:00<00:00, 23.30it/s]\n",
            " 15%|█▌        | 3/20 [00:00<00:00, 23.57it/s]"
          ],
          "name": "stderr"
        },
        {
          "output_type": "stream",
          "text": [
            "{'ner': 40.114792467734375}\n"
          ],
          "name": "stdout"
        },
        {
          "output_type": "stream",
          "text": [
            "100%|██████████| 20/20 [00:00<00:00, 21.24it/s]\n",
            " 15%|█▌        | 3/20 [00:00<00:00, 22.93it/s]"
          ],
          "name": "stderr"
        },
        {
          "output_type": "stream",
          "text": [
            "{'ner': 31.724990098890267}\n"
          ],
          "name": "stdout"
        },
        {
          "output_type": "stream",
          "text": [
            "100%|██████████| 20/20 [00:00<00:00, 21.43it/s]\n",
            " 15%|█▌        | 3/20 [00:00<00:00, 21.96it/s]"
          ],
          "name": "stderr"
        },
        {
          "output_type": "stream",
          "text": [
            "{'ner': 33.76567570115224}\n"
          ],
          "name": "stdout"
        },
        {
          "output_type": "stream",
          "text": [
            "100%|██████████| 20/20 [00:00<00:00, 20.93it/s]\n",
            " 10%|█         | 2/20 [00:00<00:00, 18.74it/s]"
          ],
          "name": "stderr"
        },
        {
          "output_type": "stream",
          "text": [
            "{'ner': 26.400198465100118}\n"
          ],
          "name": "stdout"
        },
        {
          "output_type": "stream",
          "text": [
            "100%|██████████| 20/20 [00:00<00:00, 21.70it/s]\n",
            " 15%|█▌        | 3/20 [00:00<00:00, 22.26it/s]"
          ],
          "name": "stderr"
        },
        {
          "output_type": "stream",
          "text": [
            "{'ner': 19.186122466282704}\n"
          ],
          "name": "stdout"
        },
        {
          "output_type": "stream",
          "text": [
            "100%|██████████| 20/20 [00:00<00:00, 22.59it/s]\n",
            " 10%|█         | 2/20 [00:00<00:01, 17.27it/s]"
          ],
          "name": "stderr"
        },
        {
          "output_type": "stream",
          "text": [
            "{'ner': 26.13117231709778}\n"
          ],
          "name": "stdout"
        },
        {
          "output_type": "stream",
          "text": [
            "100%|██████████| 20/20 [00:00<00:00, 21.94it/s]\n",
            " 10%|█         | 2/20 [00:00<00:00, 19.93it/s]"
          ],
          "name": "stderr"
        },
        {
          "output_type": "stream",
          "text": [
            "{'ner': 24.1206723331802}\n"
          ],
          "name": "stdout"
        },
        {
          "output_type": "stream",
          "text": [
            "100%|██████████| 20/20 [00:00<00:00, 22.43it/s]\n",
            " 15%|█▌        | 3/20 [00:00<00:00, 24.26it/s]"
          ],
          "name": "stderr"
        },
        {
          "output_type": "stream",
          "text": [
            "{'ner': 27.22259429541323}\n"
          ],
          "name": "stdout"
        },
        {
          "output_type": "stream",
          "text": [
            "100%|██████████| 20/20 [00:00<00:00, 21.93it/s]\n",
            " 15%|█▌        | 3/20 [00:00<00:00, 23.25it/s]"
          ],
          "name": "stderr"
        },
        {
          "output_type": "stream",
          "text": [
            "{'ner': 15.572087118013412}\n"
          ],
          "name": "stdout"
        },
        {
          "output_type": "stream",
          "text": [
            "100%|██████████| 20/20 [00:00<00:00, 21.78it/s]\n",
            " 15%|█▌        | 3/20 [00:00<00:00, 21.73it/s]"
          ],
          "name": "stderr"
        },
        {
          "output_type": "stream",
          "text": [
            "{'ner': 28.757832662227305}\n"
          ],
          "name": "stdout"
        },
        {
          "output_type": "stream",
          "text": [
            "100%|██████████| 20/20 [00:00<00:00, 21.90it/s]\n",
            " 15%|█▌        | 3/20 [00:00<00:00, 22.89it/s]"
          ],
          "name": "stderr"
        },
        {
          "output_type": "stream",
          "text": [
            "{'ner': 13.997478414092745}\n"
          ],
          "name": "stdout"
        },
        {
          "output_type": "stream",
          "text": [
            "100%|██████████| 20/20 [00:00<00:00, 21.01it/s]\n",
            " 15%|█▌        | 3/20 [00:00<00:00, 22.71it/s]"
          ],
          "name": "stderr"
        },
        {
          "output_type": "stream",
          "text": [
            "{'ner': 9.732774094051596}\n"
          ],
          "name": "stdout"
        },
        {
          "output_type": "stream",
          "text": [
            "100%|██████████| 20/20 [00:00<00:00, 22.74it/s]\n",
            " 15%|█▌        | 3/20 [00:00<00:00, 21.49it/s]"
          ],
          "name": "stderr"
        },
        {
          "output_type": "stream",
          "text": [
            "{'ner': 12.047425241000282}\n"
          ],
          "name": "stdout"
        },
        {
          "output_type": "stream",
          "text": [
            "100%|██████████| 20/20 [00:00<00:00, 22.52it/s]\n",
            " 15%|█▌        | 3/20 [00:00<00:00, 21.98it/s]"
          ],
          "name": "stderr"
        },
        {
          "output_type": "stream",
          "text": [
            "{'ner': 18.528497064980012}\n"
          ],
          "name": "stdout"
        },
        {
          "output_type": "stream",
          "text": [
            "100%|██████████| 20/20 [00:00<00:00, 22.69it/s]\n",
            " 15%|█▌        | 3/20 [00:00<00:00, 21.06it/s]"
          ],
          "name": "stderr"
        },
        {
          "output_type": "stream",
          "text": [
            "{'ner': 13.130147671602785}\n"
          ],
          "name": "stdout"
        },
        {
          "output_type": "stream",
          "text": [
            "100%|██████████| 20/20 [00:00<00:00, 21.95it/s]\n",
            " 15%|█▌        | 3/20 [00:00<00:00, 22.73it/s]"
          ],
          "name": "stderr"
        },
        {
          "output_type": "stream",
          "text": [
            "{'ner': 10.29331441507272}\n"
          ],
          "name": "stdout"
        },
        {
          "output_type": "stream",
          "text": [
            "100%|██████████| 20/20 [00:00<00:00, 22.44it/s]\n",
            " 15%|█▌        | 3/20 [00:00<00:00, 22.94it/s]"
          ],
          "name": "stderr"
        },
        {
          "output_type": "stream",
          "text": [
            "{'ner': 12.62912908385641}\n"
          ],
          "name": "stdout"
        },
        {
          "output_type": "stream",
          "text": [
            "100%|██████████| 20/20 [00:00<00:00, 22.58it/s]\n",
            " 15%|█▌        | 3/20 [00:00<00:00, 24.75it/s]"
          ],
          "name": "stderr"
        },
        {
          "output_type": "stream",
          "text": [
            "{'ner': 16.931331144280076}\n"
          ],
          "name": "stdout"
        },
        {
          "output_type": "stream",
          "text": [
            "100%|██████████| 20/20 [00:00<00:00, 22.62it/s]\n",
            " 15%|█▌        | 3/20 [00:00<00:00, 23.19it/s]"
          ],
          "name": "stderr"
        },
        {
          "output_type": "stream",
          "text": [
            "{'ner': 8.564390968718145}\n"
          ],
          "name": "stdout"
        },
        {
          "output_type": "stream",
          "text": [
            "100%|██████████| 20/20 [00:00<00:00, 22.02it/s]\n",
            " 15%|█▌        | 3/20 [00:00<00:00, 23.24it/s]"
          ],
          "name": "stderr"
        },
        {
          "output_type": "stream",
          "text": [
            "{'ner': 9.128564657058002}\n"
          ],
          "name": "stdout"
        },
        {
          "output_type": "stream",
          "text": [
            "100%|██████████| 20/20 [00:00<00:00, 22.64it/s]\n",
            " 15%|█▌        | 3/20 [00:00<00:00, 25.89it/s]"
          ],
          "name": "stderr"
        },
        {
          "output_type": "stream",
          "text": [
            "{'ner': 6.026398717273314}\n"
          ],
          "name": "stdout"
        },
        {
          "output_type": "stream",
          "text": [
            "100%|██████████| 20/20 [00:00<00:00, 22.11it/s]\n",
            " 15%|█▌        | 3/20 [00:00<00:00, 23.66it/s]"
          ],
          "name": "stderr"
        },
        {
          "output_type": "stream",
          "text": [
            "{'ner': 7.545362630976283}\n"
          ],
          "name": "stdout"
        },
        {
          "output_type": "stream",
          "text": [
            "100%|██████████| 20/20 [00:00<00:00, 22.15it/s]\n",
            " 15%|█▌        | 3/20 [00:00<00:00, 22.79it/s]"
          ],
          "name": "stderr"
        },
        {
          "output_type": "stream",
          "text": [
            "{'ner': 5.347021646862266}\n"
          ],
          "name": "stdout"
        },
        {
          "output_type": "stream",
          "text": [
            "100%|██████████| 20/20 [00:00<00:00, 22.42it/s]\n",
            " 15%|█▌        | 3/20 [00:00<00:00, 21.82it/s]"
          ],
          "name": "stderr"
        },
        {
          "output_type": "stream",
          "text": [
            "{'ner': 5.840225414163786}\n"
          ],
          "name": "stdout"
        },
        {
          "output_type": "stream",
          "text": [
            "100%|██████████| 20/20 [00:00<00:00, 22.53it/s]\n",
            " 15%|█▌        | 3/20 [00:00<00:00, 22.94it/s]"
          ],
          "name": "stderr"
        },
        {
          "output_type": "stream",
          "text": [
            "{'ner': 1.3956710373652952}\n"
          ],
          "name": "stdout"
        },
        {
          "output_type": "stream",
          "text": [
            "100%|██████████| 20/20 [00:00<00:00, 21.34it/s]\n",
            " 10%|█         | 2/20 [00:00<00:00, 19.68it/s]"
          ],
          "name": "stderr"
        },
        {
          "output_type": "stream",
          "text": [
            "{'ner': 11.337941022379178}\n"
          ],
          "name": "stdout"
        },
        {
          "output_type": "stream",
          "text": [
            "100%|██████████| 20/20 [00:00<00:00, 21.62it/s]\n",
            " 15%|█▌        | 3/20 [00:00<00:00, 22.29it/s]"
          ],
          "name": "stderr"
        },
        {
          "output_type": "stream",
          "text": [
            "{'ner': 1.7192865701904552}\n"
          ],
          "name": "stdout"
        },
        {
          "output_type": "stream",
          "text": [
            "100%|██████████| 20/20 [00:00<00:00, 22.66it/s]\n",
            " 15%|█▌        | 3/20 [00:00<00:00, 24.16it/s]"
          ],
          "name": "stderr"
        },
        {
          "output_type": "stream",
          "text": [
            "{'ner': 5.032684575778645}\n"
          ],
          "name": "stdout"
        },
        {
          "output_type": "stream",
          "text": [
            "100%|██████████| 20/20 [00:00<00:00, 23.61it/s]\n",
            " 15%|█▌        | 3/20 [00:00<00:00, 24.87it/s]"
          ],
          "name": "stderr"
        },
        {
          "output_type": "stream",
          "text": [
            "{'ner': 2.5019231707731975}\n"
          ],
          "name": "stdout"
        },
        {
          "output_type": "stream",
          "text": [
            "100%|██████████| 20/20 [00:00<00:00, 21.80it/s]\n",
            " 15%|█▌        | 3/20 [00:00<00:00, 21.90it/s]"
          ],
          "name": "stderr"
        },
        {
          "output_type": "stream",
          "text": [
            "{'ner': 9.210941802293139}\n"
          ],
          "name": "stdout"
        },
        {
          "output_type": "stream",
          "text": [
            "100%|██████████| 20/20 [00:00<00:00, 21.52it/s]\n",
            " 15%|█▌        | 3/20 [00:00<00:00, 22.78it/s]"
          ],
          "name": "stderr"
        },
        {
          "output_type": "stream",
          "text": [
            "{'ner': 2.243188974857656}\n"
          ],
          "name": "stdout"
        },
        {
          "output_type": "stream",
          "text": [
            "100%|██████████| 20/20 [00:00<00:00, 21.06it/s]\n",
            " 15%|█▌        | 3/20 [00:00<00:00, 20.68it/s]"
          ],
          "name": "stderr"
        },
        {
          "output_type": "stream",
          "text": [
            "{'ner': 1.72723492419394}\n"
          ],
          "name": "stdout"
        },
        {
          "output_type": "stream",
          "text": [
            "100%|██████████| 20/20 [00:01<00:00, 19.96it/s]\n",
            " 15%|█▌        | 3/20 [00:00<00:00, 20.79it/s]"
          ],
          "name": "stderr"
        },
        {
          "output_type": "stream",
          "text": [
            "{'ner': 7.610153670289991}\n"
          ],
          "name": "stdout"
        },
        {
          "output_type": "stream",
          "text": [
            "100%|██████████| 20/20 [00:00<00:00, 20.35it/s]\n",
            " 15%|█▌        | 3/20 [00:00<00:00, 22.07it/s]"
          ],
          "name": "stderr"
        },
        {
          "output_type": "stream",
          "text": [
            "{'ner': 6.623227684307281}\n"
          ],
          "name": "stdout"
        },
        {
          "output_type": "stream",
          "text": [
            "100%|██████████| 20/20 [00:01<00:00, 19.75it/s]\n",
            " 10%|█         | 2/20 [00:00<00:00, 19.59it/s]"
          ],
          "name": "stderr"
        },
        {
          "output_type": "stream",
          "text": [
            "{'ner': 2.280556471505161}\n"
          ],
          "name": "stdout"
        },
        {
          "output_type": "stream",
          "text": [
            "100%|██████████| 20/20 [00:01<00:00, 19.84it/s]\n",
            " 10%|█         | 2/20 [00:00<00:00, 19.42it/s]"
          ],
          "name": "stderr"
        },
        {
          "output_type": "stream",
          "text": [
            "{'ner': 3.7994153436106717}\n"
          ],
          "name": "stdout"
        },
        {
          "output_type": "stream",
          "text": [
            "100%|██████████| 20/20 [00:01<00:00, 19.53it/s]\n",
            " 10%|█         | 2/20 [00:00<00:00, 19.51it/s]"
          ],
          "name": "stderr"
        },
        {
          "output_type": "stream",
          "text": [
            "{'ner': 0.9650624372704879}\n"
          ],
          "name": "stdout"
        },
        {
          "output_type": "stream",
          "text": [
            "100%|██████████| 20/20 [00:01<00:00, 19.78it/s]\n",
            " 15%|█▌        | 3/20 [00:00<00:00, 22.33it/s]"
          ],
          "name": "stderr"
        },
        {
          "output_type": "stream",
          "text": [
            "{'ner': 5.797021544088999}\n"
          ],
          "name": "stdout"
        },
        {
          "output_type": "stream",
          "text": [
            "100%|██████████| 20/20 [00:00<00:00, 20.57it/s]\n",
            " 10%|█         | 2/20 [00:00<00:00, 19.93it/s]"
          ],
          "name": "stderr"
        },
        {
          "output_type": "stream",
          "text": [
            "{'ner': 1.6595726673885745}\n"
          ],
          "name": "stdout"
        },
        {
          "output_type": "stream",
          "text": [
            "100%|██████████| 20/20 [00:01<00:00, 19.29it/s]\n",
            " 15%|█▌        | 3/20 [00:00<00:00, 22.03it/s]"
          ],
          "name": "stderr"
        },
        {
          "output_type": "stream",
          "text": [
            "{'ner': 0.8038134909294378}\n"
          ],
          "name": "stdout"
        },
        {
          "output_type": "stream",
          "text": [
            "100%|██████████| 20/20 [00:00<00:00, 20.52it/s]\n",
            " 15%|█▌        | 3/20 [00:00<00:00, 21.90it/s]"
          ],
          "name": "stderr"
        },
        {
          "output_type": "stream",
          "text": [
            "{'ner': 0.25093876577637575}\n"
          ],
          "name": "stdout"
        },
        {
          "output_type": "stream",
          "text": [
            "100%|██████████| 20/20 [00:00<00:00, 20.40it/s]\n",
            " 15%|█▌        | 3/20 [00:00<00:00, 22.33it/s]"
          ],
          "name": "stderr"
        },
        {
          "output_type": "stream",
          "text": [
            "{'ner': 0.00013824133333422924}\n"
          ],
          "name": "stdout"
        },
        {
          "output_type": "stream",
          "text": [
            "100%|██████████| 20/20 [00:00<00:00, 20.53it/s]\n",
            " 15%|█▌        | 3/20 [00:00<00:00, 20.77it/s]"
          ],
          "name": "stderr"
        },
        {
          "output_type": "stream",
          "text": [
            "{'ner': 0.0027741908774971446}\n"
          ],
          "name": "stdout"
        },
        {
          "output_type": "stream",
          "text": [
            "100%|██████████| 20/20 [00:01<00:00, 19.88it/s]\n",
            " 10%|█         | 2/20 [00:00<00:00, 19.75it/s]"
          ],
          "name": "stderr"
        },
        {
          "output_type": "stream",
          "text": [
            "{'ner': 0.008649125400258886}\n"
          ],
          "name": "stdout"
        },
        {
          "output_type": "stream",
          "text": [
            "100%|██████████| 20/20 [00:01<00:00, 19.74it/s]\n",
            " 10%|█         | 2/20 [00:00<00:00, 19.11it/s]"
          ],
          "name": "stderr"
        },
        {
          "output_type": "stream",
          "text": [
            "{'ner': 3.8437530922665926}\n"
          ],
          "name": "stdout"
        },
        {
          "output_type": "stream",
          "text": [
            "100%|██████████| 20/20 [00:00<00:00, 20.60it/s]\n",
            " 15%|█▌        | 3/20 [00:00<00:00, 22.30it/s]"
          ],
          "name": "stderr"
        },
        {
          "output_type": "stream",
          "text": [
            "{'ner': 0.5968566327602399}\n"
          ],
          "name": "stdout"
        },
        {
          "output_type": "stream",
          "text": [
            "100%|██████████| 20/20 [00:00<00:00, 22.24it/s]\n",
            " 15%|█▌        | 3/20 [00:00<00:00, 21.80it/s]"
          ],
          "name": "stderr"
        },
        {
          "output_type": "stream",
          "text": [
            "{'ner': 1.0857991914232523}\n"
          ],
          "name": "stdout"
        },
        {
          "output_type": "stream",
          "text": [
            "100%|██████████| 20/20 [00:00<00:00, 22.91it/s]\n",
            " 15%|█▌        | 3/20 [00:00<00:00, 22.07it/s]"
          ],
          "name": "stderr"
        },
        {
          "output_type": "stream",
          "text": [
            "{'ner': 0.00588691342384912}\n"
          ],
          "name": "stdout"
        },
        {
          "output_type": "stream",
          "text": [
            "100%|██████████| 20/20 [00:00<00:00, 22.59it/s]\n",
            " 15%|█▌        | 3/20 [00:00<00:00, 24.17it/s]"
          ],
          "name": "stderr"
        },
        {
          "output_type": "stream",
          "text": [
            "{'ner': 0.00799098054068795}\n"
          ],
          "name": "stdout"
        },
        {
          "output_type": "stream",
          "text": [
            "100%|██████████| 20/20 [00:00<00:00, 22.01it/s]\n",
            " 15%|█▌        | 3/20 [00:00<00:00, 24.79it/s]"
          ],
          "name": "stderr"
        },
        {
          "output_type": "stream",
          "text": [
            "{'ner': 3.840777556880204}\n"
          ],
          "name": "stdout"
        },
        {
          "output_type": "stream",
          "text": [
            "100%|██████████| 20/20 [00:00<00:00, 23.48it/s]\n",
            " 15%|█▌        | 3/20 [00:00<00:00, 20.90it/s]"
          ],
          "name": "stderr"
        },
        {
          "output_type": "stream",
          "text": [
            "{'ner': 13.042257765846927}\n"
          ],
          "name": "stdout"
        },
        {
          "output_type": "stream",
          "text": [
            "100%|██████████| 20/20 [00:00<00:00, 23.41it/s]\n",
            " 15%|█▌        | 3/20 [00:00<00:00, 26.93it/s]"
          ],
          "name": "stderr"
        },
        {
          "output_type": "stream",
          "text": [
            "{'ner': 2.576803992367556}\n"
          ],
          "name": "stdout"
        },
        {
          "output_type": "stream",
          "text": [
            "100%|██████████| 20/20 [00:00<00:00, 23.92it/s]\n",
            " 15%|█▌        | 3/20 [00:00<00:00, 21.12it/s]"
          ],
          "name": "stderr"
        },
        {
          "output_type": "stream",
          "text": [
            "{'ner': 3.9723366206360224}\n"
          ],
          "name": "stdout"
        },
        {
          "output_type": "stream",
          "text": [
            "100%|██████████| 20/20 [00:00<00:00, 23.50it/s]\n",
            " 15%|█▌        | 3/20 [00:00<00:00, 25.20it/s]"
          ],
          "name": "stderr"
        },
        {
          "output_type": "stream",
          "text": [
            "{'ner': 5.1728627438996355}\n"
          ],
          "name": "stdout"
        },
        {
          "output_type": "stream",
          "text": [
            "100%|██████████| 20/20 [00:00<00:00, 24.89it/s]\n",
            " 15%|█▌        | 3/20 [00:00<00:00, 24.96it/s]"
          ],
          "name": "stderr"
        },
        {
          "output_type": "stream",
          "text": [
            "{'ner': 2.234753086068238}\n"
          ],
          "name": "stdout"
        },
        {
          "output_type": "stream",
          "text": [
            "100%|██████████| 20/20 [00:00<00:00, 22.23it/s]\n",
            " 15%|█▌        | 3/20 [00:00<00:00, 24.98it/s]"
          ],
          "name": "stderr"
        },
        {
          "output_type": "stream",
          "text": [
            "{'ner': 1.6754937583112504}\n"
          ],
          "name": "stdout"
        },
        {
          "output_type": "stream",
          "text": [
            "100%|██████████| 20/20 [00:00<00:00, 22.75it/s]\n",
            " 15%|█▌        | 3/20 [00:00<00:00, 24.83it/s]"
          ],
          "name": "stderr"
        },
        {
          "output_type": "stream",
          "text": [
            "{'ner': 1.2163323869975677}\n"
          ],
          "name": "stdout"
        },
        {
          "output_type": "stream",
          "text": [
            "100%|██████████| 20/20 [00:00<00:00, 22.87it/s]\n",
            " 15%|█▌        | 3/20 [00:00<00:00, 24.04it/s]"
          ],
          "name": "stderr"
        },
        {
          "output_type": "stream",
          "text": [
            "{'ner': 1.950708416434064}\n"
          ],
          "name": "stdout"
        },
        {
          "output_type": "stream",
          "text": [
            "100%|██████████| 20/20 [00:00<00:00, 24.37it/s]\n",
            " 15%|█▌        | 3/20 [00:00<00:00, 23.79it/s]"
          ],
          "name": "stderr"
        },
        {
          "output_type": "stream",
          "text": [
            "{'ner': 0.15548041224737347}\n"
          ],
          "name": "stdout"
        },
        {
          "output_type": "stream",
          "text": [
            "100%|██████████| 20/20 [00:00<00:00, 23.96it/s]\n",
            " 15%|█▌        | 3/20 [00:00<00:00, 21.59it/s]"
          ],
          "name": "stderr"
        },
        {
          "output_type": "stream",
          "text": [
            "{'ner': 3.4728372122627658}\n"
          ],
          "name": "stdout"
        },
        {
          "output_type": "stream",
          "text": [
            "100%|██████████| 20/20 [00:00<00:00, 23.89it/s]\n",
            " 15%|█▌        | 3/20 [00:00<00:00, 22.79it/s]"
          ],
          "name": "stderr"
        },
        {
          "output_type": "stream",
          "text": [
            "{'ner': 2.9143997696978636}\n"
          ],
          "name": "stdout"
        },
        {
          "output_type": "stream",
          "text": [
            "100%|██████████| 20/20 [00:00<00:00, 23.99it/s]\n",
            " 15%|█▌        | 3/20 [00:00<00:00, 26.80it/s]"
          ],
          "name": "stderr"
        },
        {
          "output_type": "stream",
          "text": [
            "{'ner': 4.185637490343833}\n"
          ],
          "name": "stdout"
        },
        {
          "output_type": "stream",
          "text": [
            "100%|██████████| 20/20 [00:00<00:00, 23.89it/s]\n",
            " 15%|█▌        | 3/20 [00:00<00:00, 26.04it/s]"
          ],
          "name": "stderr"
        },
        {
          "output_type": "stream",
          "text": [
            "{'ner': 2.89894173051444}\n"
          ],
          "name": "stdout"
        },
        {
          "output_type": "stream",
          "text": [
            "100%|██████████| 20/20 [00:00<00:00, 23.13it/s]\n",
            " 15%|█▌        | 3/20 [00:00<00:00, 22.64it/s]"
          ],
          "name": "stderr"
        },
        {
          "output_type": "stream",
          "text": [
            "{'ner': 2.2675902035567055}\n"
          ],
          "name": "stdout"
        },
        {
          "output_type": "stream",
          "text": [
            "100%|██████████| 20/20 [00:00<00:00, 23.18it/s]\n",
            " 15%|█▌        | 3/20 [00:00<00:00, 23.49it/s]"
          ],
          "name": "stderr"
        },
        {
          "output_type": "stream",
          "text": [
            "{'ner': 4.291529423240461}\n"
          ],
          "name": "stdout"
        },
        {
          "output_type": "stream",
          "text": [
            "100%|██████████| 20/20 [00:00<00:00, 22.42it/s]\n",
            " 15%|█▌        | 3/20 [00:00<00:00, 26.43it/s]"
          ],
          "name": "stderr"
        },
        {
          "output_type": "stream",
          "text": [
            "{'ner': 5.456170255815384}\n"
          ],
          "name": "stdout"
        },
        {
          "output_type": "stream",
          "text": [
            "100%|██████████| 20/20 [00:00<00:00, 23.74it/s]\n",
            " 15%|█▌        | 3/20 [00:00<00:00, 22.64it/s]"
          ],
          "name": "stderr"
        },
        {
          "output_type": "stream",
          "text": [
            "{'ner': 0.17339108852429866}\n"
          ],
          "name": "stdout"
        },
        {
          "output_type": "stream",
          "text": [
            "100%|██████████| 20/20 [00:00<00:00, 22.68it/s]\n",
            " 15%|█▌        | 3/20 [00:00<00:00, 24.11it/s]"
          ],
          "name": "stderr"
        },
        {
          "output_type": "stream",
          "text": [
            "{'ner': 0.00044161135284629153}\n"
          ],
          "name": "stdout"
        },
        {
          "output_type": "stream",
          "text": [
            "100%|██████████| 20/20 [00:00<00:00, 23.12it/s]\n",
            " 15%|█▌        | 3/20 [00:00<00:00, 20.60it/s]"
          ],
          "name": "stderr"
        },
        {
          "output_type": "stream",
          "text": [
            "{'ner': 7.788810519960227}\n"
          ],
          "name": "stdout"
        },
        {
          "output_type": "stream",
          "text": [
            "100%|██████████| 20/20 [00:00<00:00, 21.47it/s]\n",
            " 15%|█▌        | 3/20 [00:00<00:00, 22.68it/s]"
          ],
          "name": "stderr"
        },
        {
          "output_type": "stream",
          "text": [
            "{'ner': 1.9261195333759822}\n"
          ],
          "name": "stdout"
        },
        {
          "output_type": "stream",
          "text": [
            "100%|██████████| 20/20 [00:00<00:00, 22.19it/s]\n",
            " 15%|█▌        | 3/20 [00:00<00:00, 20.72it/s]"
          ],
          "name": "stderr"
        },
        {
          "output_type": "stream",
          "text": [
            "{'ner': 0.01771162248523681}\n"
          ],
          "name": "stdout"
        },
        {
          "output_type": "stream",
          "text": [
            "100%|██████████| 20/20 [00:00<00:00, 21.07it/s]\n",
            " 15%|█▌        | 3/20 [00:00<00:00, 23.32it/s]"
          ],
          "name": "stderr"
        },
        {
          "output_type": "stream",
          "text": [
            "{'ner': 0.001649638916749523}\n"
          ],
          "name": "stdout"
        },
        {
          "output_type": "stream",
          "text": [
            "100%|██████████| 20/20 [00:01<00:00, 17.63it/s]\n",
            " 15%|█▌        | 3/20 [00:00<00:00, 18.97it/s]"
          ],
          "name": "stderr"
        },
        {
          "output_type": "stream",
          "text": [
            "{'ner': 4.293499806143371}\n"
          ],
          "name": "stdout"
        },
        {
          "output_type": "stream",
          "text": [
            "100%|██████████| 20/20 [00:01<00:00, 17.29it/s]\n",
            " 10%|█         | 2/20 [00:00<00:00, 18.77it/s]"
          ],
          "name": "stderr"
        },
        {
          "output_type": "stream",
          "text": [
            "{'ner': 0.0018310823740323875}\n"
          ],
          "name": "stdout"
        },
        {
          "output_type": "stream",
          "text": [
            "100%|██████████| 20/20 [00:01<00:00, 16.17it/s]\n",
            " 10%|█         | 2/20 [00:00<00:01, 14.69it/s]"
          ],
          "name": "stderr"
        },
        {
          "output_type": "stream",
          "text": [
            "{'ner': 5.973080458561362}\n"
          ],
          "name": "stdout"
        },
        {
          "output_type": "stream",
          "text": [
            "100%|██████████| 20/20 [00:01<00:00, 15.50it/s]\n",
            " 10%|█         | 2/20 [00:00<00:01, 17.79it/s]"
          ],
          "name": "stderr"
        },
        {
          "output_type": "stream",
          "text": [
            "{'ner': 0.03481711998117177}\n"
          ],
          "name": "stdout"
        },
        {
          "output_type": "stream",
          "text": [
            "100%|██████████| 20/20 [00:01<00:00, 15.50it/s]\n",
            " 10%|█         | 2/20 [00:00<00:01, 16.24it/s]"
          ],
          "name": "stderr"
        },
        {
          "output_type": "stream",
          "text": [
            "{'ner': 1.9251562097980242}\n"
          ],
          "name": "stdout"
        },
        {
          "output_type": "stream",
          "text": [
            "100%|██████████| 20/20 [00:01<00:00, 15.40it/s]\n",
            " 10%|█         | 2/20 [00:00<00:01, 16.84it/s]"
          ],
          "name": "stderr"
        },
        {
          "output_type": "stream",
          "text": [
            "{'ner': 0.01027469249305864}\n"
          ],
          "name": "stdout"
        },
        {
          "output_type": "stream",
          "text": [
            "100%|██████████| 20/20 [00:01<00:00, 15.46it/s]\n",
            " 10%|█         | 2/20 [00:00<00:01, 15.80it/s]"
          ],
          "name": "stderr"
        },
        {
          "output_type": "stream",
          "text": [
            "{'ner': 0.023216549793740486}\n"
          ],
          "name": "stdout"
        },
        {
          "output_type": "stream",
          "text": [
            "100%|██████████| 20/20 [00:01<00:00, 15.38it/s]\n",
            " 10%|█         | 2/20 [00:00<00:01, 13.97it/s]"
          ],
          "name": "stderr"
        },
        {
          "output_type": "stream",
          "text": [
            "{'ner': 3.678372159276686}\n"
          ],
          "name": "stdout"
        },
        {
          "output_type": "stream",
          "text": [
            "100%|██████████| 20/20 [00:01<00:00, 15.13it/s]\n",
            " 10%|█         | 2/20 [00:00<00:01, 15.43it/s]"
          ],
          "name": "stderr"
        },
        {
          "output_type": "stream",
          "text": [
            "{'ner': 0.00012906974023739134}\n"
          ],
          "name": "stdout"
        },
        {
          "output_type": "stream",
          "text": [
            "100%|██████████| 20/20 [00:01<00:00, 14.80it/s]\n",
            " 10%|█         | 2/20 [00:00<00:01, 14.83it/s]"
          ],
          "name": "stderr"
        },
        {
          "output_type": "stream",
          "text": [
            "{'ner': 2.4846780052804935}\n"
          ],
          "name": "stdout"
        },
        {
          "output_type": "stream",
          "text": [
            "100%|██████████| 20/20 [00:01<00:00, 15.10it/s]\n",
            " 10%|█         | 2/20 [00:00<00:01, 15.92it/s]"
          ],
          "name": "stderr"
        },
        {
          "output_type": "stream",
          "text": [
            "{'ner': 0.0005176842743853312}\n"
          ],
          "name": "stdout"
        },
        {
          "output_type": "stream",
          "text": [
            "100%|██████████| 20/20 [00:01<00:00, 15.35it/s]\n",
            " 10%|█         | 2/20 [00:00<00:01, 17.02it/s]"
          ],
          "name": "stderr"
        },
        {
          "output_type": "stream",
          "text": [
            "{'ner': 1.321535350539681}\n"
          ],
          "name": "stdout"
        },
        {
          "output_type": "stream",
          "text": [
            "100%|██████████| 20/20 [00:01<00:00, 14.34it/s]"
          ],
          "name": "stderr"
        },
        {
          "output_type": "stream",
          "text": [
            "{'ner': 0.11217838625572972}\n"
          ],
          "name": "stdout"
        },
        {
          "output_type": "stream",
          "text": [
            "\n"
          ],
          "name": "stderr"
        }
      ]
    },
    {
      "cell_type": "code",
      "metadata": {
        "colab": {
          "base_uri": "https://localhost:8080/"
        },
        "id": "MvOx9k_16w7J",
        "outputId": "af1be7a6-e62f-433e-a46b-9ea3a7e600c4"
      },
      "source": [
        "text=\"South Bangla Agriculture and Commerce (SBAC) Bank received 14 times more bid for its 100 million shares put up on sale for general investors as part of its initial public offering (IPO) to raise Tk100 crore via the fixed price method.\"\n",
        "for text, _ in TRAIN_DATA:\n",
        "    doc = nlp(text)\n",
        "    print('Entities', [(ent.text, ent.label_) for ent in doc.ents])\n",
        "    print('Tokens', [(t.text, t.ent_type_, t.ent_iob) for t in doc])"
      ],
      "execution_count": 64,
      "outputs": [
        {
          "output_type": "stream",
          "text": [
            "Entities [('capital', 'Fin_term')]\n",
            "Tokens [('Shares', '', 2), ('will', '', 2), ('be', '', 2), ('allotted', '', 2), ('proportionally', '', 2), ('on', '', 2), ('Thursday', '', 2), ('at', '', 2), ('the', '', 2), ('Dhaka', '', 2), ('Stock', '', 2), ('Exchange', '', 2), ('Tower', '', 2), ('in', '', 2), ('the', '', 2), ('capital', 'Fin_term', 3), (',', '', 2), ('said', '', 2), ('a', '', 2), ('press', '', 2), ('release', '', 2), ('.', '', 2)]\n",
            "Entities [('EPS', 'Fin_term')]\n",
            "Tokens [('According', '', 2), ('to', '', 2), ('the', '', 2), ('financial', '', 2), ('statement', '', 2), ('ending', '', 2), ('June', '', 2), ('30', '', 2), (',', '', 2), ('2019', '', 2), (',', '', 2), ('the', '', 2), ('company', '', 2), (\"'s\", '', 2), ('net', '', 2), ('asset', '', 2), ('value', '', 2), ('(', '', 2), ('NAV', '', 2), (')', '', 2), ('per', '', 2), ('share', '', 2), ('was', '', 2), ('Tk13.18', '', 2), (',', '', 2), ('while', '', 2), ('earnings', '', 2), ('per', '', 2), ('share', '', 2), ('(', '', 2), ('EPS', 'Fin_term', 3), (')', '', 2), ('were', '', 2), ('Tk0.94', '', 2), ('.', '', 2)]\n",
            "Entities [('Agrani Bank Limited', 'gvt_bank')]\n",
            "Tokens [('There', '', 2), ('are', '', 2), ('total', '', 2), ('921', '', 2), ('branches', '', 2), ('of', '', 2), ('Agrani', 'gvt_bank', 3), ('Bank', 'gvt_bank', 1), ('Limited', 'gvt_bank', 1), ('situated', '', 2), ('in', '', 2), ('64', '', 2), ('districts', '', 2), ('in', '', 2), ('Bangladesh', '', 2), ('.', '', 2)]\n",
            "Entities [('Rupali Bank Limited', 'gvt_bank')]\n",
            "Tokens [('The', '', 2), ('state', '', 2), ('-', '', 2), ('run', '', 2), ('Rupali', 'gvt_bank', 3), ('Bank', 'gvt_bank', 1), ('Limited', 'gvt_bank', 1), ('has', '', 2), ('introduced', '', 2), ('online', '', 2), ('transaction', '', 2), ('system', '', 2), ('in', '', 2), ('its', '', 2), ('532', '', 2), ('branches', '', 2), ('across', '', 2), ('the', '', 2), ('country', '', 2), ('.', '', 2), ('“', '', 2), ('We', '', 2), ('will', '', 2), ('introduce', '', 2), ('online', '', 2), ('banking', '', 2), ('system', '', 2), ('in', '', 2), ('the', '', 2), ('rest', '', 2), ('of', '', 2), ('131', '', 2), ('branches', '', 2), ('soon', '', 2)]\n",
            "Entities [('Janata Bank', 'gvt_bank')]\n",
            "Tokens [('Including', '', 2), ('4', '', 2), ('overseas', '', 2), ('branches', '', 2), ('in', '', 2), ('United', '', 2), ('Arab', '', 2), ('Emirates', '', 2), (',', '', 2), ('Janata', 'gvt_bank', 3), ('Bank', 'gvt_bank', 1), ('runs', '', 2), ('its', '', 2), ('business', '', 2), ('with', '', 2), ('904', '', 2), ('branches', '', 2), ('across', '', 2), ('the', '', 2), ('country', '', 2), ('.', '', 2)]\n",
            "Entities [('IPO', 'Fin_term')]\n",
            "Tokens [('The', '', 2), ('bank', '', 2), ('will', '', 2), ('raise', '', 2), ('money', '', 2), ('from', '', 2), ('the', '', 2), ('capital', '', 2), ('market', '', 2), ('to', '', 2), ('spend', '', 2), ('on', '', 2), ('the', '', 2), ('purchase', '', 2), ('of', '', 2), ('government', '', 2), ('securities', '', 2), ('and', '', 2), ('IPO', 'Fin_term', 3), ('costs', '', 2), ('.', '', 2)]\n",
            "Entities [('Sonali Bank Limited', 'gvt_bank')]\n",
            "Tokens [('The', '', 2), ('bank', '', 2), ('has', '', 2), ('been', '', 2), ('converted', '', 2), ('to', '', 2), ('a', '', 2), ('Public', '', 2), ('Limited', '', 2), ('Company', '', 2), ('with', '', 2), ('100', '', 2), ('%', '', 2), ('ownership', '', 2), ('of', '', 2), ('the', '', 2), ('government', '', 2), ('and', '', 2), ('started', '', 2), ('functioning', '', 2), ('as', '', 2), ('Sonali', 'gvt_bank', 3), ('Bank', 'gvt_bank', 1), ('Limited', 'gvt_bank', 1), ('from', '', 2), ('November', '', 2), ('15', '', 2), (',', '', 2), ('2007', '', 2), ('taking', '', 2), ('over', '', 2), ('all', '', 2), ('assets', '', 2)]\n",
            "Entities [('capital market', 'Fin_term')]\n",
            "Tokens [('Therefore', '', 2), (',', '', 2), ('South', '', 2), ('Bangla', '', 2), ('Bank', '', 2), ('will', '', 2), ('play', '', 2), ('a', '', 2), ('role', '', 2), ('in', '', 2), ('the', '', 2), ('overall', '', 2), ('development', '', 2), ('of', '', 2), ('the', '', 2), ('capital', 'Fin_term', 3), ('market', 'Fin_term', 1), (',', '', 2), ('he', '', 2), ('added', '', 2), ('.', '', 2)]\n",
            "Entities [('BASIC Bank Limited', 'gvt_bank')]\n",
            "Tokens [('BASIC', 'gvt_bank', 3), ('Bank', 'gvt_bank', 1), ('Limited', 'gvt_bank', 1), ('is', '', 2), ('a', '', 2), ('fully', '', 2), ('government', '', 2), ('owned', '', 2), ('bank', '', 2), ('in', '', 2), ('Bangladesh', '', 2), ('which', '', 2), ('was', '', 2), ('founded', '', 2), ('on', '', 2), ('2', '', 2), ('August', '', 2), ('1988', '', 2), ('.', '', 2), ('The', '', 2), ('bank', '', 2), ('was', '', 2), ('founded', '', 2), ('to', '', 2), ('finance', '', 2), ('small', '', 2), ('enterprises', '', 2), ('.', '', 2)]\n",
            "Entities [('Bangladesh Development Bank', 'gvt_bank')]\n",
            "Tokens [('Bangladesh', 'gvt_bank', 3), ('Development', 'gvt_bank', 1), ('Bank', 'gvt_bank', 1), ('was', '', 2), ('established', '', 2), ('on', '', 2), ('16', '', 2), ('November', '', 2), ('2009', '', 2), ('as', '', 2), ('a', '', 2), ('Public', '', 2), ('Limited', '', 2), ('Company', '', 2), ('by', '', 2), ('merging', '', 2), ('the', '', 2), ('state', '', 2), ('owned', '', 2), ('Bangladesh', '', 2), ('Shilpa', '', 2), ('Bank', '', 2), ('and', '', 2), ('Bangladesh', '', 2)]\n"
          ],
          "name": "stdout"
        }
      ]
    },
    {
      "cell_type": "code",
      "metadata": {
        "colab": {
          "base_uri": "https://localhost:8080/",
          "height": 139
        },
        "id": "mxieAMDL7bux",
        "outputId": "e92040e6-4e37-4f54-a581-2ebdbc8db0a1"
      },
      "source": [
        "doc = nlp('As per the conditions laid down by the BSEC, the share-purchase agreement shall not have any terms and conditions that may contradict the laws of the land or run against the interests of general shareholders of the DSE and the development of the capital market, people aware of the matter told ET from Dhaka.The Chinese consortium had earlier qualified in a bidding called by the DSE to sell its 25% stake to a strategic partner. It will take minimum three months to meet the conditions be.')\n",
        "displacy.render(doc, style='ent', jupyter=True)\n",
        "print('Entities', [(ent.text, ent.label_) for ent in doc.ents])\n"
      ],
      "execution_count": 118,
      "outputs": [
        {
          "output_type": "display_data",
          "data": {
            "text/html": [
              "<span class=\"tex2jax_ignore\"><div class=\"entities\" style=\"line-height: 2.5; direction: ltr\">As per the conditions laid down by the BSEC, the share-purchase agreement shall not have any terms and conditions that may contradict the laws of the land or run against the interests of general shareholders of the DSE and the development of the \n",
              "<mark class=\"entity\" style=\"background: #ddd; padding: 0.45em 0.6em; margin: 0 0.25em; line-height: 1; border-radius: 0.35em;\">\n",
              "    capital market\n",
              "    <span style=\"font-size: 0.8em; font-weight: bold; line-height: 1; border-radius: 0.35em; text-transform: uppercase; vertical-align: middle; margin-left: 0.5rem\">Fin_term</span>\n",
              "</mark>\n",
              ", people aware of the matter told ET from Dhaka.The Chinese consortium had earlier qualified in a bidding called by the DSE to sell its 25% stake to a strategic partner. It will take minimum three months to meet the conditions be.</div></span>"
            ],
            "text/plain": [
              "<IPython.core.display.HTML object>"
            ]
          },
          "metadata": {
            "tags": []
          }
        },
        {
          "output_type": "stream",
          "text": [
            "Entities [('capital market', 'Fin_term')]\n"
          ],
          "name": "stdout"
        }
      ]
    },
    {
      "cell_type": "code",
      "metadata": {
        "colab": {
          "base_uri": "https://localhost:8080/"
        },
        "id": "Zbu8ahhNduk7",
        "outputId": "9a51f76e-dea4-42e2-e9dc-026cb900f227"
      },
      "source": [
        "\n",
        "# import SentimentIntensityAnalyzer class\n",
        "# from vaderSentiment.vaderSentiment module.\n",
        "from vaderSentiment.vaderSentiment import SentimentIntensityAnalyzer\n",
        " \n",
        "# function to print sentiments\n",
        "# of the sentence.\n",
        "def sentiment_scores(sentence):\n",
        " \n",
        "    # Create a SentimentIntensityAnalyzer object.\n",
        "    sid_obj = SentimentIntensityAnalyzer()\n",
        " \n",
        "    # polarity_scores method of SentimentIntensityAnalyzer\n",
        "    # object gives a sentiment dictionary.\n",
        "    # which contains pos, neg, neu, and compound scores.\n",
        "    sentiment_dict = sid_obj.polarity_scores(sentence)\n",
        "     \n",
        "    print(\"Overall sentiment dictionary is : \", sentiment_dict)\n",
        "    print(\"sentence was rated as \", sentiment_dict['neg']*100, \"% Negative\")\n",
        "    print(\"sentence was rated as \", sentiment_dict['neu']*100, \"% Neutral\")\n",
        "    print(\"sentence was rated as \", sentiment_dict['pos']*100, \"% Positive\")\n",
        " \n",
        "    print(\"Sentence Overall Rated As\", end = \" \")\n",
        " \n",
        "    # decide sentiment as positive, negative and neutral\n",
        "    if sentiment_dict['compound'] >= 0.05 :\n",
        "        print(\"Positive\")\n",
        " \n",
        "    elif sentiment_dict['compound'] <= - 0.05 :\n",
        "        print(\"Negative\")\n",
        " \n",
        "    else :\n",
        "        print(\"Neutral\")\n",
        "sentence=\"per share (EPS) of Tk58.03 for the year ended on March 31,  2021, a slight 11.12% increase from Tk52.22 for the same period of the previous financial year\"\n",
        "sentiment_scores(sentence)"
      ],
      "execution_count": 103,
      "outputs": [
        {
          "output_type": "stream",
          "text": [
            "Overall sentiment dictionary is :  {'neg': 0.0, 'neu': 0.86, 'pos': 0.14, 'compound': 0.4976}\n",
            "sentence was rated as  0.0 % Negative\n",
            "sentence was rated as  86.0 % Neutral\n",
            "sentence was rated as  14.000000000000002 % Positive\n",
            "Sentence Overall Rated As Positive\n"
          ],
          "name": "stdout"
        }
      ]
    },
    {
      "cell_type": "code",
      "metadata": {
        "colab": {
          "base_uri": "https://localhost:8080/"
        },
        "id": "V5aQfgv5bZSF",
        "outputId": "3c0d0e50-66b6-49e9-a9a2-f868edcb34b7"
      },
      "source": [
        "import nltk\n",
        "f=\"As per the conditions laid down by the BSEC, the share-purchase agreement shall not have any terms and conditions that may contradict the laws of the land or run against the interests of general shareholders of the DSE and the development of the capital market, people aware of the matter told ET from Dhaka.The Chinese consortium had earlier qualified in a bidding called by the DSE to sell its 25% stake to a strategic partner. It will take minimum three months to meet the conditions be.\"\n",
        "a_list = nltk.tokenize.sent_tokenize(f)\n",
        "enity=[(ent.text, ent.label_) for ent in doc.ents]\n",
        "for i in range(len(enity)):\n",
        "  for j in range(len(a_list)):\n",
        "    if enity[i][0] in a_list[j]:\n",
        "      print(a_list[j])\n",
        "      sentiment_scores(a_list[j])\n",
        "print(len(a_list))"
      ],
      "execution_count": 119,
      "outputs": [
        {
          "output_type": "stream",
          "text": [
            "As per the conditions laid down by the BSEC, the share-purchase agreement shall not have any terms and conditions that may contradict the laws of the land or run against the interests of general shareholders of the DSE and the development of the capital market, people aware of the matter told ET from Dhaka.The Chinese consortium had earlier qualified in a bidding called by the DSE to sell its 25% stake to a strategic partner.\n",
            "Overall sentiment dictionary is :  {'neg': 0.029, 'neu': 0.892, 'pos': 0.079, 'compound': 0.4588}\n",
            "sentence was rated as  2.9000000000000004 % Negative\n",
            "sentence was rated as  89.2 % Neutral\n",
            "sentence was rated as  7.9 % Positive\n",
            "Sentence Overall Rated As Positive\n",
            "2\n"
          ],
          "name": "stdout"
        }
      ]
    },
    {
      "cell_type": "code",
      "metadata": {
        "colab": {
          "base_uri": "https://localhost:8080/"
        },
        "id": "mR1ePMQpBE48",
        "outputId": "385a6914-218d-476d-d791-fccb7e4f96d5"
      },
      "source": [
        ""
      ],
      "execution_count": null,
      "outputs": [
        {
          "output_type": "stream",
          "text": [
            "7 15\n"
          ],
          "name": "stdout"
        }
      ]
    }
  ]
}